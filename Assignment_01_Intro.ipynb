{
  "nbformat": 4,
  "nbformat_minor": 0,
  "metadata": {
    "colab": {
      "provenance": [],
      "include_colab_link": true
    },
    "kernelspec": {
      "display_name": "Python 3",
      "name": "python3"
    }
  },
  "cells": [
    {
      "cell_type": "markdown",
      "metadata": {
        "id": "view-in-github",
        "colab_type": "text"
      },
      "source": [
        "<a href=\"https://colab.research.google.com/github/CodeByRalph/GoTCPClient/blob/main/Assignment_01_Intro.ipynb\" target=\"_parent\"><img src=\"https://colab.research.google.com/assets/colab-badge.svg\" alt=\"Open In Colab\"/></a>"
      ]
    },
    {
      "cell_type": "markdown",
      "source": [
        "Name: Ralph Stout\n",
        "\n",
        "CID:81442707"
      ],
      "metadata": {
        "id": "m8KAvFEq94FE"
      }
    },
    {
      "cell_type": "markdown",
      "metadata": {
        "id": "GMpHtUNwHDPh"
      },
      "source": [
        "# Python Programming and Problem Solving\n",
        "\n",
        "Prof. Erdogan Dogdu<br/>\n",
        "Angelo State University<br/>\n",
        "http://edogdu.github.io<br/>\n",
        "Updated: Dec 2023\n",
        "\n",
        "## Assignment 1: Intro\n",
        "\n",
        "<i>Submission: After completion, File/Print to pdf and submit to Blackboard.</i>"
      ]
    },
    {
      "cell_type": "code",
      "source": [],
      "metadata": {
        "id": "dob8BAhkMdw2"
      },
      "execution_count": null,
      "outputs": []
    },
    {
      "cell_type": "markdown",
      "source": [
        "Q1: Print the following output, using a single print() function call.\n",
        "\n",
        "Output:\n",
        "<pre>\n",
        "Hello\n",
        "*****\n",
        "World\n",
        "</pre>"
      ],
      "metadata": {
        "id": "sgxmff675W-9"
      }
    },
    {
      "cell_type": "code",
      "source": [
        "# YOUR CODE GOES HERE\n",
        "print(\"Hello\\n*****\\nWorld\")"
      ],
      "metadata": {
        "colab": {
          "base_uri": "https://localhost:8080/"
        },
        "id": "0sBteJRu50HX",
        "outputId": "9ee10f90-00d9-4f53-971b-7bce69468b1a"
      },
      "execution_count": null,
      "outputs": [
        {
          "output_type": "stream",
          "name": "stdout",
          "text": [
            "Hello\n",
            "*****\n",
            "World\n"
          ]
        }
      ]
    },
    {
      "cell_type": "markdown",
      "source": [
        "Q2: Print the following output, using a single print() function call.\n",
        "\n",
        "<pre>\n",
        "Hello\n",
        "     *****\n",
        "          World\n",
        "</pre>"
      ],
      "metadata": {
        "id": "EPCmgM7t6Vp_"
      }
    },
    {
      "cell_type": "code",
      "source": [
        "# YOUR CODE GOES HERE\n",
        "print(\"Hello\\n     *****\\n\\t  World\")"
      ],
      "metadata": {
        "colab": {
          "base_uri": "https://localhost:8080/"
        },
        "id": "JW1FMlyd6sYt",
        "outputId": "91b06977-8399-488f-cf48-5bec8cd71988"
      },
      "execution_count": null,
      "outputs": [
        {
          "output_type": "stream",
          "name": "stdout",
          "text": [
            "Hello\n",
            "     *****\n",
            "\t  World\n"
          ]
        }
      ]
    },
    {
      "cell_type": "markdown",
      "source": [
        "Q3: Fix the error in the following code."
      ],
      "metadata": {
        "id": "FTd7422Q7sYH"
      }
    },
    {
      "cell_type": "code",
      "source": [
        "print(5*10)"
      ],
      "metadata": {
        "colab": {
          "base_uri": "https://localhost:8080/"
        },
        "id": "zmLjy_277xpk",
        "outputId": "237443f3-8e48-4814-ba26-e074590e1019"
      },
      "execution_count": null,
      "outputs": [
        {
          "output_type": "stream",
          "name": "stdout",
          "text": [
            "50\n"
          ]
        }
      ]
    },
    {
      "cell_type": "markdown",
      "source": [
        "Q4: Fix the error in the following code."
      ],
      "metadata": {
        "id": "gh3oUt9T7-lV"
      }
    },
    {
      "cell_type": "code",
      "source": [
        "print(\"Hello World\")"
      ],
      "metadata": {
        "colab": {
          "base_uri": "https://localhost:8080/"
        },
        "id": "VfEXUD7J79AL",
        "outputId": "94afd1ce-6dd1-4e4f-ff5f-da785055d8bf"
      },
      "execution_count": null,
      "outputs": [
        {
          "output_type": "stream",
          "name": "stdout",
          "text": [
            "Hello World\n"
          ]
        }
      ]
    },
    {
      "cell_type": "markdown",
      "source": [
        "Q5: Fix the error in the following code."
      ],
      "metadata": {
        "id": "vq3InyOT8O9t"
      }
    },
    {
      "cell_type": "code",
      "source": [
        "print(10/1)"
      ],
      "metadata": {
        "colab": {
          "base_uri": "https://localhost:8080/"
        },
        "id": "CVUNrar98SR7",
        "outputId": "1dfa5a3f-ea40-4765-bf6f-a766228a2f55"
      },
      "execution_count": null,
      "outputs": [
        {
          "output_type": "stream",
          "name": "stdout",
          "text": [
            "10.0\n"
          ]
        }
      ]
    },
    {
      "cell_type": "markdown",
      "source": [
        "Q6: Fix the error (!) in the following code."
      ],
      "metadata": {
        "id": "2U1B-Y1t80Wa"
      }
    },
    {
      "cell_type": "code",
      "source": [
        "print('The world is round!')"
      ],
      "metadata": {
        "id": "C2eOsbw18z2s",
        "colab": {
          "base_uri": "https://localhost:8080/"
        },
        "outputId": "8d73fde0-b629-45f5-f0d1-141186dcb365"
      },
      "execution_count": null,
      "outputs": [
        {
          "output_type": "stream",
          "name": "stdout",
          "text": [
            "The world is round!\n"
          ]
        }
      ]
    },
    {
      "cell_type": "code",
      "source": [],
      "metadata": {
        "id": "fd-AweZh-i7E"
      },
      "execution_count": null,
      "outputs": []
    }
  ]
}